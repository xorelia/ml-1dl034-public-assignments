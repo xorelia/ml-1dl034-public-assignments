{
 "cells": [
  {
   "cell_type": "markdown",
   "metadata": {},
   "source": [
    "This is a very simple example of how you can process the data and submit it in the correct format  Kaggle.  It is worth spending some time going through this example. Otherwise, your results will not be in the correct format for the Kaggle competition. "
   ]
  },
  {
   "cell_type": "code",
   "execution_count": null,
   "metadata": {
    "id": "DIz5-_Y0UVy0"
   },
   "outputs": [],
   "source": [
    "import pandas as pd\n",
    "from sklearn.linear_model import LinearRegression\n",
    "from sklearn.metrics import mean_squared_error\n",
    "import datetime as dt"
   ]
  },
  {
   "cell_type": "markdown",
   "metadata": {},
   "source": [
    "The file `caspecoTestRange.csv` contains the date ranges that will be scored by Kaggle.\n",
    "\n",
    "After reading the data we need to rename the columns, so that the file can be scored by Kaggle correctly."
   ]
  },
  {
   "cell_type": "code",
   "execution_count": null,
   "metadata": {
    "colab": {
     "base_uri": "https://localhost:8080/",
     "height": 398
    },
    "id": "JNerHggITgvT",
    "outputId": "e37cd11b-d4ea-48d8-83f2-7903933fefaf"
   },
   "outputs": [],
   "source": [
    "# change directories to where the files are located\n",
    "\n",
    "training_set = \"caspecoTrainingData.csv\"\n",
    "test_set = \"caspecoTestRange.csv\"\n",
    "\n",
    "# read train and test sets\n",
    "\n",
    "train_df = pd.read_csv(training_set)\n",
    "test_df = pd.read_csv(test_set)\n",
    "\n",
    "train_x = train_df.loc[:, train_df.columns != 'Sales']\n",
    "train_y = train_df.loc[:, train_df.columns == 'Sales']"
   ]
  },
  {
   "cell_type": "markdown",
   "metadata": {},
   "source": [
    "This is a  very simple, and not very useful, example of how to use the data in a regression model. \n",
    "First some preprocesing. You have to map the dates to integers,  because learning algorithms do not understand dates. \n",
    "\n",
    "For more information on how to convert dates to integers see\n",
    "[https://www.geeksforgeeks.org/python-datetime-toordinal-method-with-example/]"
   ]
  },
  {
   "cell_type": "code",
   "execution_count": null,
   "metadata": {
    "id": "dJ4OXQ35Uauu"
   },
   "outputs": [],
   "source": [
    "train_x['Date_fixed'] = pd.to_datetime(train_x['Date'])\n",
    "train_x['Date_fixed'] = train_x['Date_fixed'].map(dt.datetime.toordinal)\n",
    "train_x_input = train_x.drop(['Date'], axis = 1)\n",
    "\n",
    "test_df['Date_fixed'] = pd.to_datetime(test_df['Date'])\n",
    "test_df['Date_fixed'] = test_df['Date_fixed'].map(dt.datetime.toordinal)\n",
    "test_df_input = test_df.drop(['Date'], axis = 1)"
   ]
  },
  {
   "cell_type": "markdown",
   "metadata": {},
   "source": [
    "Now we can train the model."
   ]
  },
  {
   "cell_type": "code",
   "execution_count": null,
   "metadata": {
    "colab": {
     "base_uri": "https://localhost:8080/"
    },
    "id": "A6hGVqkfUuNh",
    "outputId": "df0d5040-9d82-4fb9-f5e9-ca452addbb7c"
   },
   "outputs": [],
   "source": [
    "# train a basic linear regression model using the train data\n",
    "\n",
    "clf = LinearRegression()\n",
    "clf.fit(train_x_input, train_y)\n",
    "\n",
    "train_pred = clf.predict(train_x_input)\n",
    "\n",
    "# calculate RMSD of the prediction\n",
    "\n",
    "rmsd = mean_squared_error(train_y, train_pred, squared = False)\n",
    "print(rmsd)\n",
    "\n",
    "# predict the sales for the test data\n",
    "\n",
    "pred = clf.predict(test_df_input)"
   ]
  },
  {
   "cell_type": "markdown",
   "metadata": {},
   "source": [
    "You need to submit a `csv` file to Kaggle with your predictions. Each row in the `csv` file needs a unique identifier. To solve this we have merged the data and the restaurant identifier. Note that you have to do this; otherwise, your results will not be scored properly."
   ]
  },
  {
   "cell_type": "code",
   "execution_count": null,
   "metadata": {
    "id": "xyj3wWF4XSzs"
   },
   "outputs": [],
   "source": [
    "outfile_name = \"ML_project_sample_submit.csv\"\n",
    "\n",
    "# ID required by Kaggle for scoring\n",
    "\n",
    "test_df['ID'] = test_df['Date'] + \"_\" + test_df['Company'].astype(str)\n",
    "test_df['Sales'] = pred\n",
    "\n",
    "# print the data frame to a CSV file\n",
    "# upload the output file to Kaggle for the competition\n",
    "\n",
    "test_df.to_csv(outfile_name, sep = \",\", index = False, columns = ['ID', 'Sales'])"
   ]
  }
 ],
 "metadata": {
  "colab": {
   "provenance": []
  },
  "kernelspec": {
   "display_name": "Python 3 (ipykernel)",
   "language": "python",
   "name": "python3"
  },
  "language_info": {
   "codemirror_mode": {
    "name": "ipython",
    "version": 3
   },
   "file_extension": ".py",
   "mimetype": "text/x-python",
   "name": "python",
   "nbconvert_exporter": "python",
   "pygments_lexer": "ipython3",
   "version": "3.10.9"
  }
 },
 "nbformat": 4,
 "nbformat_minor": 1
}
